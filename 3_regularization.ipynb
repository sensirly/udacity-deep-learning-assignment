{
 "cells": [
  {
   "cell_type": "markdown",
   "metadata": {
    "colab_type": "text",
    "deletable": true,
    "editable": true,
    "id": "kR-4eNdK6lYS"
   },
   "source": [
    "Deep Learning\n",
    "=============\n",
    "\n",
    "Assignment 3\n",
    "------------\n",
    "\n",
    "Previously in `2_fullyconnected.ipynb`, you trained a logistic regression and a neural network model.\n",
    "\n",
    "The goal of this assignment is to explore regularization techniques."
   ]
  },
  {
   "cell_type": "code",
   "execution_count": 1,
   "metadata": {
    "cellView": "both",
    "colab": {
     "autoexec": {
      "startup": false,
      "wait_interval": 0
     }
    },
    "colab_type": "code",
    "collapsed": true,
    "deletable": true,
    "editable": true,
    "id": "JLpLa8Jt7Vu4"
   },
   "outputs": [],
   "source": [
    "# These are all the modules we'll be using later. Make sure you can import them\n",
    "# before proceeding further.\n",
    "from __future__ import print_function\n",
    "import numpy as np\n",
    "import tensorflow as tf\n",
    "from six.moves import cPickle as pickle"
   ]
  },
  {
   "cell_type": "markdown",
   "metadata": {
    "colab_type": "text",
    "deletable": true,
    "editable": true,
    "id": "1HrCK6e17WzV"
   },
   "source": [
    "First reload the data we generated in `1_notmnist.ipynb`."
   ]
  },
  {
   "cell_type": "code",
   "execution_count": 2,
   "metadata": {
    "cellView": "both",
    "colab": {
     "autoexec": {
      "startup": false,
      "wait_interval": 0
     },
     "output_extras": [
      {
       "item_id": 1
      }
     ]
    },
    "colab_type": "code",
    "collapsed": false,
    "deletable": true,
    "editable": true,
    "executionInfo": {
     "elapsed": 11777,
     "status": "ok",
     "timestamp": 1449849322348,
     "user": {
      "color": "",
      "displayName": "",
      "isAnonymous": false,
      "isMe": true,
      "permissionId": "",
      "photoUrl": "",
      "sessionId": "0",
      "userId": ""
     },
     "user_tz": 480
    },
    "id": "y3-cj1bpmuxc",
    "outputId": "e03576f1-ebbe-4838-c388-f1777bcc9873"
   },
   "outputs": [
    {
     "name": "stdout",
     "output_type": "stream",
     "text": [
      "Training set (200000, 28, 28) (200000,)\n",
      "Validation set (10000, 28, 28) (10000,)\n",
      "Test set (10000, 28, 28) (10000,)\n"
     ]
    }
   ],
   "source": [
    "pickle_file = 'notMNIST.pickle'\n",
    "\n",
    "with open(pickle_file, 'rb') as f:\n",
    "  save = pickle.load(f)\n",
    "  train_dataset = save['train_dataset']\n",
    "  train_labels = save['train_labels']\n",
    "  valid_dataset = save['valid_dataset']\n",
    "  valid_labels = save['valid_labels']\n",
    "  test_dataset = save['test_dataset']\n",
    "  test_labels = save['test_labels']\n",
    "  del save  # hint to help gc free up memory\n",
    "  print('Training set', train_dataset.shape, train_labels.shape)\n",
    "  print('Validation set', valid_dataset.shape, valid_labels.shape)\n",
    "  print('Test set', test_dataset.shape, test_labels.shape)"
   ]
  },
  {
   "cell_type": "markdown",
   "metadata": {
    "colab_type": "text",
    "deletable": true,
    "editable": true,
    "id": "L7aHrm6nGDMB"
   },
   "source": [
    "Reformat into a shape that's more adapted to the models we're going to train:\n",
    "- data as a flat matrix,\n",
    "- labels as float 1-hot encodings."
   ]
  },
  {
   "cell_type": "code",
   "execution_count": 3,
   "metadata": {
    "cellView": "both",
    "colab": {
     "autoexec": {
      "startup": false,
      "wait_interval": 0
     },
     "output_extras": [
      {
       "item_id": 1
      }
     ]
    },
    "colab_type": "code",
    "collapsed": false,
    "deletable": true,
    "editable": true,
    "executionInfo": {
     "elapsed": 11728,
     "status": "ok",
     "timestamp": 1449849322356,
     "user": {
      "color": "",
      "displayName": "",
      "isAnonymous": false,
      "isMe": true,
      "permissionId": "",
      "photoUrl": "",
      "sessionId": "0",
      "userId": ""
     },
     "user_tz": 480
    },
    "id": "IRSyYiIIGIzS",
    "outputId": "3f8996ee-3574-4f44-c953-5c8a04636582"
   },
   "outputs": [
    {
     "name": "stdout",
     "output_type": "stream",
     "text": [
      "Training set (200000, 784) (200000, 10)\n",
      "Validation set (10000, 784) (10000, 10)\n",
      "Test set (10000, 784) (10000, 10)\n"
     ]
    }
   ],
   "source": [
    "image_size = 28\n",
    "num_labels = 10\n",
    "\n",
    "def reformat(dataset, labels):\n",
    "  dataset = dataset.reshape((-1, image_size * image_size)).astype(np.float32)\n",
    "  # Map 1 to [0.0, 1.0, 0.0 ...], 2 to [0.0, 0.0, 1.0 ...]\n",
    "  labels = (np.arange(num_labels) == labels[:,None]).astype(np.float32)\n",
    "  return dataset, labels\n",
    "train_dataset, train_labels = reformat(train_dataset, train_labels)\n",
    "valid_dataset, valid_labels = reformat(valid_dataset, valid_labels)\n",
    "test_dataset, test_labels = reformat(test_dataset, test_labels)\n",
    "print('Training set', train_dataset.shape, train_labels.shape)\n",
    "print('Validation set', valid_dataset.shape, valid_labels.shape)\n",
    "print('Test set', test_dataset.shape, test_labels.shape)"
   ]
  },
  {
   "cell_type": "code",
   "execution_count": 4,
   "metadata": {
    "cellView": "both",
    "colab": {
     "autoexec": {
      "startup": false,
      "wait_interval": 0
     }
    },
    "colab_type": "code",
    "collapsed": true,
    "deletable": true,
    "editable": true,
    "id": "RajPLaL_ZW6w"
   },
   "outputs": [],
   "source": [
    "def accuracy(predictions, labels):\n",
    "  return (100.0 * np.sum(np.argmax(predictions, 1) == np.argmax(labels, 1))\n",
    "          / predictions.shape[0])"
   ]
  },
  {
   "cell_type": "markdown",
   "metadata": {
    "colab_type": "text",
    "deletable": true,
    "editable": true,
    "id": "sgLbUAQ1CW-1"
   },
   "source": [
    "---\n",
    "Problem 1\n",
    "---------\n",
    "\n",
    "Introduce and tune L2 regularization for both logistic and neural network models. Remember that L2 amounts to adding a penalty on the norm of the weights to the loss. In TensorFlow, you can compute the L2 loss for a tensor `t` using `nn.l2_loss(t)`. The right amount of regularization should improve your validation / test accuracy.\n",
    "\n",
    "---"
   ]
  },
  {
   "cell_type": "code",
   "execution_count": 38,
   "metadata": {
    "collapsed": false
   },
   "outputs": [
    {
     "name": "stdout",
     "output_type": "stream",
     "text": [
      "graph ready\n",
      "Minibatch loss at step 0: 51.111572\n",
      "Minibatch accuracy: 7.0%\n",
      "Validation accuracy: 8.4%\n",
      "Minibatch loss at step 500: 11.384155\n",
      "Minibatch accuracy: 78.9%\n",
      "Validation accuracy: 72.4%\n",
      "Minibatch loss at step 1000: 4.524247\n",
      "Minibatch accuracy: 78.1%\n",
      "Validation accuracy: 76.7%\n",
      "Minibatch loss at step 1500: 1.832128\n",
      "Minibatch accuracy: 82.8%\n",
      "Validation accuracy: 79.9%\n",
      "Minibatch loss at step 2000: 1.052330\n",
      "Minibatch accuracy: 88.3%\n",
      "Validation accuracy: 81.7%\n",
      "Minibatch loss at step 2500: 0.884340\n",
      "Minibatch accuracy: 79.7%\n",
      "Validation accuracy: 82.0%\n",
      "Minibatch loss at step 3000: 0.799428\n",
      "Minibatch accuracy: 83.6%\n",
      "Validation accuracy: 82.2%\n",
      "Test accuracy: 89.1%\n"
     ]
    }
   ],
   "source": [
    "## LR with L2\n",
    "batch_size = 128\n",
    "num_steps = 3001\n",
    "beta = 0.01\n",
    "\n",
    "graph = tf.Graph()\n",
    "with graph.as_default():\n",
    "\n",
    "  # Input data. For the training data, we use a placeholder that will be fed\n",
    "  # at run time with a training minibatch.\n",
    "  x = tf.placeholder(tf.float32,\n",
    "                                    shape=(batch_size, image_size * image_size))\n",
    "  y = tf.placeholder(tf.float32, shape=(batch_size, num_labels))\n",
    "  valid = tf.constant(valid_dataset)\n",
    "  test = tf.constant(test_dataset)\n",
    "  w = tf.Variable(\n",
    "    tf.truncated_normal([image_size * image_size, num_labels]))\n",
    "  b = tf.Variable(tf.zeros([num_labels]))\n",
    "  \n",
    "  # Training computation.\n",
    "  logits = tf.matmul(x, w) + b \n",
    "  loss = tf.reduce_mean(\n",
    "    tf.nn.softmax_cross_entropy_with_logits(labels=y, logits=logits) + beta * tf.nn.l2_loss(w))\n",
    "  \n",
    "  # Optimizer.\n",
    "  optimizer = tf.train.GradientDescentOptimizer(0.1).minimize(loss)\n",
    "  \n",
    "  # Predictions for the training, validation, and test data.\n",
    "  train_prediction = tf.nn.softmax(logits)\n",
    "  valid_prediction = tf.nn.softmax(\n",
    "    tf.matmul(valid, w) + b)\n",
    "  test_prediction = tf.nn.softmax(tf.matmul(test, w) + b)\n",
    "print(\"graph ready\")\n",
    "\n",
    "with tf.Session(graph=graph) as session:\n",
    "  tf.global_variables_initializer().run()\n",
    "  for step in range(num_steps):\n",
    "    offset = (step * batch_size) % (train_labels.shape[0] - batch_size)\n",
    "    batch_data = train_dataset[offset:(offset + batch_size), :]\n",
    "    batch_labels = train_labels[offset:(offset + batch_size), :]\n",
    "    feed_dict = {x : batch_data, y : batch_labels}\n",
    "    _, l, predictions = session.run(\n",
    "      [optimizer, loss, train_prediction], feed_dict=feed_dict)\n",
    "    if (step % 500 == 0):\n",
    "      print(\"Minibatch loss at step %d: %f\" % (step, l))\n",
    "      print(\"Minibatch accuracy: %.1f%%\" % accuracy(predictions, batch_labels))\n",
    "      print(\"Validation accuracy: %.1f%%\" % accuracy(\n",
    "        valid_prediction.eval(), valid_labels))\n",
    "  print(\"Test accuracy: %.1f%%\" % accuracy(test_prediction.eval(), test_labels))"
   ]
  },
  {
   "cell_type": "code",
   "execution_count": 39,
   "metadata": {
    "collapsed": false
   },
   "outputs": [
    {
     "name": "stdout",
     "output_type": "stream",
     "text": [
      "graph ready\n",
      "Minibatch loss at step 0: 3481.892090\n",
      "Minibatch accuracy: 7.0%\n",
      "Validation accuracy: 22.0%\n",
      "Minibatch loss at step 500: 1155.242432\n",
      "Minibatch accuracy: 85.9%\n",
      "Validation accuracy: 80.8%\n",
      "Minibatch loss at step 1000: 423.356720\n",
      "Minibatch accuracy: 78.9%\n",
      "Validation accuracy: 82.5%\n",
      "Minibatch loss at step 1500: 154.738678\n",
      "Minibatch accuracy: 92.2%\n",
      "Validation accuracy: 83.2%\n",
      "Minibatch loss at step 2000: 57.134701\n",
      "Minibatch accuracy: 91.4%\n",
      "Validation accuracy: 85.8%\n",
      "Minibatch loss at step 2500: 21.445107\n",
      "Minibatch accuracy: 89.1%\n",
      "Validation accuracy: 85.6%\n",
      "Minibatch loss at step 3000: 8.364651\n",
      "Minibatch accuracy: 87.5%\n",
      "Validation accuracy: 85.0%\n",
      "Test accuracy: 91.7%\n"
     ]
    }
   ],
   "source": [
    "## NN with L2\n",
    "batch_size = 128\n",
    "layer1_dimension = 1024\n",
    "num_steps = 3001\n",
    "beta = 0.01\n",
    "\n",
    "graph = tf.Graph()\n",
    "with graph.as_default():\n",
    "  # 定义输入输出及参数\n",
    "  x = tf.placeholder(tf.float32, shape=(batch_size, image_size * image_size))\n",
    "  y = tf.placeholder(tf.float32, shape=(batch_size, num_labels))\n",
    "  valid = tf.constant(valid_dataset)\n",
    "  test = tf.constant(test_dataset)\n",
    "  w1 = tf.Variable(tf.truncated_normal([image_size * image_size, layer1_dimension]))\n",
    "  b1 = tf.Variable(tf.zeros([layer1_dimension]))\n",
    "  w2 = tf.Variable(tf.truncated_normal([layer1_dimension, num_labels]))  \n",
    "  b2 = tf.Variable(tf.zeros([num_labels]))\n",
    "  #定义训练和预测的计算过程 \n",
    "  l1 = tf.nn.relu(tf.matmul(x, w1) + b1 )\n",
    "  l2 = tf.matmul(l1, w2) + b2 \n",
    "  loss = tf.reduce_mean(\n",
    "    tf.nn.softmax_cross_entropy_with_logits(labels=y, logits=l2) + beta * tf.nn.l2_loss(w1) + beta * tf.nn.l2_loss(w2))\n",
    "  optimizer = tf.train.GradientDescentOptimizer(0.1).minimize(loss)\n",
    "\n",
    "  train_prediction = tf.nn.softmax(l2)\n",
    "  valid_relu= tf.nn.relu(tf.matmul(valid, w1) + b1)\n",
    "  valid_prediction = tf.nn.softmax(tf.matmul(valid_relu, w2) + b2)\n",
    "  test_relu= tf.nn.relu(tf.matmul(test, w1) + b1)\n",
    "  test_prediction = tf.nn.softmax(tf.matmul(test_relu, w2) + b2)\n",
    "print(\"graph ready\")\n",
    "\n",
    "with tf.Session(graph=graph) as session:\n",
    "  tf.global_variables_initializer().run()\n",
    "  for step in range(num_steps):\n",
    "    offset = (step * batch_size) % (train_labels.shape[0] - batch_size)\n",
    "    batch_data = train_dataset[offset:(offset + batch_size), :]\n",
    "    batch_labels = train_labels[offset:(offset + batch_size), :]\n",
    "    feed_dict = {x : batch_data, y : batch_labels}\n",
    "    _, l, predictions = session.run(\n",
    "      [optimizer, loss, train_prediction], feed_dict=feed_dict)\n",
    "    if (step % 500 == 0):\n",
    "      print(\"Minibatch loss at step %d: %f\" % (step, l))\n",
    "      print(\"Minibatch accuracy: %.1f%%\" % accuracy(predictions, batch_labels))\n",
    "      print(\"Validation accuracy: %.1f%%\" % accuracy(\n",
    "        valid_prediction.eval(), valid_labels))\n",
    "  print(\"Test accuracy: %.1f%%\" % accuracy(test_prediction.eval(), test_labels))"
   ]
  },
  {
   "cell_type": "markdown",
   "metadata": {
    "colab_type": "text",
    "deletable": true,
    "editable": true,
    "id": "na8xX2yHZzNF"
   },
   "source": [
    "---\n",
    "Problem 2\n",
    "---------\n",
    "Let's demonstrate an extreme case of overfitting. Restrict your training data to just a few batches. What happens?\n",
    "\n",
    "---"
   ]
  },
  {
   "cell_type": "code",
   "execution_count": 56,
   "metadata": {
    "collapsed": false
   },
   "outputs": [
    {
     "name": "stdout",
     "output_type": "stream",
     "text": [
      "graph ready\n",
      "Minibatch loss at step 0: 329.298645\n",
      "Minibatch accuracy: 10.2%\n",
      "Validation accuracy: 21.4%\n",
      "Minibatch loss at step 500: 0.000001\n",
      "Minibatch accuracy: 100.0%\n",
      "Validation accuracy: 72.8%\n",
      "Minibatch loss at step 1000: 0.000000\n",
      "Minibatch accuracy: 100.0%\n",
      "Validation accuracy: 72.8%\n",
      "Minibatch loss at step 1500: 0.000000\n",
      "Minibatch accuracy: 100.0%\n",
      "Validation accuracy: 72.8%\n",
      "Minibatch loss at step 2000: 0.000000\n",
      "Minibatch accuracy: 100.0%\n",
      "Validation accuracy: 72.8%\n",
      "Minibatch loss at step 2500: 0.000000\n",
      "Minibatch accuracy: 100.0%\n",
      "Validation accuracy: 72.8%\n",
      "Minibatch loss at step 3000: 0.000000\n",
      "Minibatch accuracy: 100.0%\n",
      "Validation accuracy: 72.8%\n",
      "Test accuracy: 80.3%\n"
     ]
    }
   ],
   "source": [
    "## NN with L2, small dataset\n",
    "train_size = 1024\n",
    "batch_size = 128\n",
    "layer1_dimension = 1024\n",
    "num_steps = 3001\n",
    "beta = 0.0\n",
    "\n",
    "graph = tf.Graph()\n",
    "with graph.as_default():\n",
    "  # 定义输入输出及参数\n",
    "  x = tf.placeholder(tf.float32, shape=(batch_size, image_size * image_size))\n",
    "  y = tf.placeholder(tf.float32, shape=(batch_size, num_labels))\n",
    "  valid = tf.constant(valid_dataset)\n",
    "  test = tf.constant(test_dataset)\n",
    "  w1 = tf.Variable(tf.truncated_normal([image_size * image_size, layer1_dimension]))\n",
    "  b1 = tf.Variable(tf.zeros([layer1_dimension]))\n",
    "  w2 = tf.Variable(tf.truncated_normal([layer1_dimension, num_labels]))  \n",
    "  b2 = tf.Variable(tf.zeros([num_labels]))\n",
    "  #定义训练和预测的计算过程 \n",
    "  l1 = tf.nn.relu(tf.matmul(x, w1) + b1 )\n",
    "  l2 = tf.matmul(l1, w2) + b2 \n",
    "  loss = tf.reduce_mean(\n",
    "    tf.nn.softmax_cross_entropy_with_logits(labels=y, logits=l2) + beta * tf.nn.l2_loss(w1) + beta * tf.nn.l2_loss(w2))\n",
    "  optimizer = tf.train.GradientDescentOptimizer(0.1).minimize(loss)\n",
    "\n",
    "  train_prediction = tf.nn.softmax(l2)\n",
    "  valid_relu= tf.nn.relu(tf.matmul(valid, w1) + b1)\n",
    "  valid_prediction = tf.nn.softmax(tf.matmul(valid_relu, w2) + b2)\n",
    "  test_relu= tf.nn.relu(tf.matmul(test, w1) + b1)\n",
    "  test_prediction = tf.nn.softmax(tf.matmul(test_relu, w2) + b2)\n",
    "print(\"graph ready\")\n",
    "\n",
    "with tf.Session(graph=graph) as session:\n",
    "  tf.global_variables_initializer().run()\n",
    "  for step in range(num_steps):\n",
    "    offset = (step * batch_size) % (train_size - batch_size)\n",
    "    batch_data = train_dataset[offset:(offset + batch_size), :]\n",
    "    batch_labels = train_labels[offset:(offset + batch_size), :]\n",
    "    feed_dict = {x : batch_data, y : batch_labels}\n",
    "    _, l, predictions = session.run(\n",
    "      [optimizer, loss, train_prediction], feed_dict=feed_dict)\n",
    "    if (step % 500 == 0):\n",
    "      print(\"Minibatch loss at step %d: %f\" % (step, l))\n",
    "      print(\"Minibatch accuracy: %.1f%%\" % accuracy(predictions, batch_labels))\n",
    "      print(\"Validation accuracy: %.1f%%\" % accuracy(\n",
    "        valid_prediction.eval(), valid_labels))\n",
    "  print(\"Test accuracy: %.1f%%\" % accuracy(test_prediction.eval(), test_labels))"
   ]
  },
  {
   "cell_type": "code",
   "execution_count": 62,
   "metadata": {
    "collapsed": false
   },
   "outputs": [
    {
     "name": "stdout",
     "output_type": "stream",
     "text": [
      "graph ready\n",
      "Minibatch loss at step 0: 31860.472656\n",
      "Minibatch accuracy: 15.6%\n",
      "Validation accuracy: 24.4%\n",
      "Minibatch loss at step 500: 2.798723\n",
      "Minibatch accuracy: 83.6%\n",
      "Validation accuracy: 79.0%\n",
      "Minibatch loss at step 1000: 1.358191\n",
      "Minibatch accuracy: 84.4%\n",
      "Validation accuracy: 79.1%\n",
      "Minibatch loss at step 1500: 1.151581\n",
      "Minibatch accuracy: 93.8%\n",
      "Validation accuracy: 79.1%\n",
      "Minibatch loss at step 2000: 1.273059\n",
      "Minibatch accuracy: 85.2%\n",
      "Validation accuracy: 79.3%\n",
      "Minibatch loss at step 2500: 1.325824\n",
      "Minibatch accuracy: 85.9%\n",
      "Validation accuracy: 79.4%\n",
      "Minibatch loss at step 3000: 1.304145\n",
      "Minibatch accuracy: 83.6%\n",
      "Validation accuracy: 79.3%\n",
      "Test accuracy: 86.4%\n"
     ]
    }
   ],
   "source": [
    "## NN with L2, small dataset\n",
    "train_size = 1024\n",
    "batch_size = 128\n",
    "layer1_dimension = 1024\n",
    "num_steps = 3001\n",
    "beta = 0.1\n",
    "\n",
    "graph = tf.Graph()\n",
    "with graph.as_default():\n",
    "  # 定义输入输出及参数\n",
    "  x = tf.placeholder(tf.float32, shape=(batch_size, image_size * image_size))\n",
    "  y = tf.placeholder(tf.float32, shape=(batch_size, num_labels))\n",
    "  valid = tf.constant(valid_dataset)\n",
    "  test = tf.constant(test_dataset)\n",
    "  w1 = tf.Variable(tf.truncated_normal([image_size * image_size, layer1_dimension]))\n",
    "  b1 = tf.Variable(tf.zeros([layer1_dimension]))\n",
    "  w2 = tf.Variable(tf.truncated_normal([layer1_dimension, num_labels]))  \n",
    "  b2 = tf.Variable(tf.zeros([num_labels]))\n",
    "  #定义训练和预测的计算过程 \n",
    "  l1 = tf.nn.relu(tf.matmul(x, w1) + b1)\n",
    "  l2 = tf.matmul(l1, w2) + b2 \n",
    "  loss = tf.reduce_mean(\n",
    "    tf.nn.softmax_cross_entropy_with_logits(labels=y, logits=l2) + beta * tf.nn.l2_loss(w1) + beta * tf.nn.l2_loss(w2))\n",
    "  optimizer = tf.train.GradientDescentOptimizer(0.1).minimize(loss)\n",
    "\n",
    "  train_prediction = tf.nn.softmax(l2)\n",
    "  valid_relu= tf.nn.relu(tf.matmul(valid, w1) + b1)\n",
    "  valid_prediction = tf.nn.softmax(tf.matmul(valid_relu, w2) + b2)\n",
    "  test_relu= tf.nn.relu(tf.matmul(test, w1) + b1)\n",
    "  test_prediction = tf.nn.softmax(tf.matmul(test_relu, w2) + b2)\n",
    "print(\"graph ready\")\n",
    "\n",
    "with tf.Session(graph=graph) as session:\n",
    "  tf.global_variables_initializer().run()\n",
    "  for step in range(num_steps):\n",
    "    offset = (step * batch_size) % (train_size - batch_size)\n",
    "    batch_data = train_dataset[offset:(offset + batch_size), :]\n",
    "    batch_labels = train_labels[offset:(offset + batch_size), :]\n",
    "    feed_dict = {x : batch_data, y : batch_labels}\n",
    "    _, l, predictions = session.run(\n",
    "      [optimizer, loss, train_prediction], feed_dict=feed_dict)\n",
    "    if (step % 500 == 0):\n",
    "      print(\"Minibatch loss at step %d: %f\" % (step, l))\n",
    "      print(\"Minibatch accuracy: %.1f%%\" % accuracy(predictions, batch_labels))\n",
    "      print(\"Validation accuracy: %.1f%%\" % accuracy(\n",
    "        valid_prediction.eval(), valid_labels))\n",
    "  print(\"Test accuracy: %.1f%%\" % accuracy(test_prediction.eval(), test_labels))"
   ]
  },
  {
   "cell_type": "markdown",
   "metadata": {
    "colab_type": "text",
    "deletable": true,
    "editable": true,
    "id": "ww3SCBUdlkRc"
   },
   "source": [
    "---\n",
    "Problem 3\n",
    "---------\n",
    "Introduce Dropout on the hidden layer of the neural network. Remember: Dropout should only be introduced during training, not evaluation, otherwise your evaluation results would be stochastic as well. TensorFlow provides `nn.dropout()` for that, but you have to make sure it's only inserted during training.\n",
    "\n",
    "What happens to our extreme overfitting case?\n",
    "\n",
    "---"
   ]
  },
  {
   "cell_type": "code",
   "execution_count": 60,
   "metadata": {
    "collapsed": false
   },
   "outputs": [
    {
     "name": "stdout",
     "output_type": "stream",
     "text": [
      "graph ready\n",
      "Minibatch loss at step 0: 3596.614502\n",
      "Minibatch accuracy: 12.5%\n",
      "Validation accuracy: 23.8%\n",
      "Minibatch loss at step 500: 1154.117188\n",
      "Minibatch accuracy: 100.0%\n",
      "Validation accuracy: 79.4%\n",
      "Minibatch loss at step 1000: 424.260010\n",
      "Minibatch accuracy: 100.0%\n",
      "Validation accuracy: 79.5%\n",
      "Minibatch loss at step 1500: 156.009857\n",
      "Minibatch accuracy: 100.0%\n",
      "Validation accuracy: 80.0%\n",
      "Minibatch loss at step 2000: 57.378876\n",
      "Minibatch accuracy: 100.0%\n",
      "Validation accuracy: 80.2%\n",
      "Minibatch loss at step 2500: 21.216928\n",
      "Minibatch accuracy: 100.0%\n",
      "Validation accuracy: 80.3%\n",
      "Minibatch loss at step 3000: 8.026206\n",
      "Minibatch accuracy: 100.0%\n",
      "Validation accuracy: 80.8%\n",
      "Test accuracy: 88.0%\n"
     ]
    }
   ],
   "source": [
    "## NN with Dropout，small dataset\n",
    "train_size = 1024 #train_labels.shape[0]\n",
    "batch_size = 128\n",
    "hidden_dimension = 1024\n",
    "num_steps = 3001\n",
    "beta = 0.01\n",
    "keep_prob = 0.5\n",
    "\n",
    "\n",
    "graph = tf.Graph()\n",
    "with graph.as_default():\n",
    "  # 定义输入输出及参数\n",
    "  x = tf.placeholder(tf.float32, shape=(batch_size, image_size * image_size))\n",
    "  y = tf.placeholder(tf.float32, shape=(batch_size, num_labels))\n",
    "  valid = tf.constant(valid_dataset)\n",
    "  test = tf.constant(test_dataset)\n",
    "  w1 = tf.Variable(tf.truncated_normal([image_size * image_size, hidden_dimension]))\n",
    "  b1 = tf.Variable(tf.zeros([hidden_dimension]))\n",
    "  w2 = tf.Variable(tf.truncated_normal([hidden_dimension, num_labels]))  \n",
    "  b2 = tf.Variable(tf.zeros([num_labels]))\n",
    "\n",
    "  l1 = tf.nn.relu(tf.matmul(x, w1) + b1)\n",
    "  d1 = tf.nn.dropout(l1, keep_prob)\n",
    "  l2 = tf.matmul(d1, w2) + b2 \n",
    "  loss = tf.reduce_mean(\n",
    "    tf.nn.softmax_cross_entropy_with_logits(labels=y, logits=l2) + beta * tf.nn.l2_loss(w1) + beta * tf.nn.l2_loss(w2))\n",
    "  optimizer = tf.train.GradientDescentOptimizer(0.1).minimize(loss)\n",
    "\n",
    "  train_prediction = tf.nn.softmax(tf.matmul(l1, w2) + b2 )\n",
    "  valid_relu= tf.nn.relu(tf.matmul(valid, w1) + b1)\n",
    "  valid_prediction = tf.nn.softmax(tf.matmul(valid_relu, w2) + b2)\n",
    "  test_relu= tf.nn.relu(tf.matmul(test, w1) + b1)\n",
    "  test_prediction = tf.nn.softmax(tf.matmul(test_relu, w2) + b2)\n",
    "print(\"graph ready\")\n",
    "\n",
    "with tf.Session(graph=graph) as session:\n",
    "  tf.global_variables_initializer().run()\n",
    "  for step in range(num_steps):\n",
    "    offset = (step * batch_size) % (train_size - batch_size)\n",
    "    batch_data = train_dataset[offset:(offset + batch_size), :]\n",
    "    batch_labels = train_labels[offset:(offset + batch_size), :]\n",
    "    feed_dict = {x : batch_data, y : batch_labels}\n",
    "    _, l, predictions = session.run(\n",
    "      [optimizer, loss, train_prediction], feed_dict=feed_dict)\n",
    "    if (step % 500 == 0):\n",
    "      print(\"Minibatch loss at step %d: %f\" % (step, l))\n",
    "      print(\"Minibatch accuracy: %.1f%%\" % accuracy(predictions, batch_labels))\n",
    "      print(\"Validation accuracy: %.1f%%\" % accuracy(\n",
    "        valid_prediction.eval(), valid_labels))\n",
    "  print(\"Test accuracy: %.1f%%\" % accuracy(test_prediction.eval(), test_labels))"
   ]
  },
  {
   "cell_type": "code",
   "execution_count": 65,
   "metadata": {
    "collapsed": false
   },
   "outputs": [
    {
     "name": "stdout",
     "output_type": "stream",
     "text": [
      "graph ready\n",
      "Minibatch loss at step 0: 3643.734863\n",
      "Minibatch accuracy: 10.2%\n",
      "Validation accuracy: 23.4%\n",
      "Minibatch loss at step 500: 1148.139893\n",
      "Minibatch accuracy: 89.8%\n",
      "Validation accuracy: 82.6%\n",
      "Minibatch loss at step 1000: 419.543365\n",
      "Minibatch accuracy: 82.8%\n",
      "Validation accuracy: 83.5%\n",
      "Minibatch loss at step 1500: 153.544189\n",
      "Minibatch accuracy: 89.8%\n",
      "Validation accuracy: 84.2%\n",
      "Minibatch loss at step 2000: 56.745979\n",
      "Minibatch accuracy: 88.3%\n",
      "Validation accuracy: 85.0%\n",
      "Minibatch loss at step 2500: 21.314857\n",
      "Minibatch accuracy: 85.2%\n",
      "Validation accuracy: 84.6%\n",
      "Minibatch loss at step 3000: 8.355970\n",
      "Minibatch accuracy: 85.2%\n",
      "Validation accuracy: 84.3%\n",
      "Test accuracy: 91.1%\n"
     ]
    }
   ],
   "source": [
    "## NN with Dropout and L2，full dataset\n",
    "train_size = train_labels.shape[0]\n",
    "batch_size = 128\n",
    "hidden_dimension = 1024\n",
    "num_steps = 3001\n",
    "beta = 0.01\n",
    "keep_prob = 0.5\n",
    "\n",
    "graph = tf.Graph()\n",
    "with graph.as_default():\n",
    "  # 定义输入输出及参数\n",
    "  x = tf.placeholder(tf.float32, shape=(batch_size, image_size * image_size))\n",
    "  y = tf.placeholder(tf.float32, shape=(batch_size, num_labels))\n",
    "  valid = tf.constant(valid_dataset)\n",
    "  test = tf.constant(test_dataset)\n",
    "  w1 = tf.Variable(tf.truncated_normal([image_size * image_size, hidden_dimension]))\n",
    "  b1 = tf.Variable(tf.zeros([hidden_dimension]))\n",
    "  w2 = tf.Variable(tf.truncated_normal([hidden_dimension, num_labels]))  \n",
    "  b2 = tf.Variable(tf.zeros([num_labels]))\n",
    "\n",
    "  l1 = tf.nn.relu(tf.matmul(x, w1) + b1)\n",
    "  d1 = tf.nn.dropout(l1, keep_prob)\n",
    "  l2 = tf.matmul(d1, w2) + b2 \n",
    "  loss = tf.reduce_mean(\n",
    "    tf.nn.softmax_cross_entropy_with_logits(labels=y, logits=l2) + beta * tf.nn.l2_loss(w1) + beta * tf.nn.l2_loss(w2))\n",
    "  optimizer = tf.train.GradientDescentOptimizer(0.1).minimize(loss)\n",
    "\n",
    "  train_prediction = tf.nn.softmax(tf.matmul(l1, w2) + b2 )\n",
    "  valid_relu= tf.nn.relu(tf.matmul(valid, w1) + b1)\n",
    "  valid_prediction = tf.nn.softmax(tf.matmul(valid_relu, w2) + b2)\n",
    "  test_relu= tf.nn.relu(tf.matmul(test, w1) + b1)\n",
    "  test_prediction = tf.nn.softmax(tf.matmul(test_relu, w2) + b2)\n",
    "print(\"graph ready\")\n",
    "\n",
    "with tf.Session(graph=graph) as session:\n",
    "  tf.global_variables_initializer().run()\n",
    "  for step in range(num_steps):\n",
    "    offset = (step * batch_size) % (train_size - batch_size)\n",
    "    batch_data = train_dataset[offset:(offset + batch_size), :]\n",
    "    batch_labels = train_labels[offset:(offset + batch_size), :]\n",
    "    feed_dict = {x : batch_data, y : batch_labels}\n",
    "    _, l, predictions = session.run(\n",
    "      [optimizer, loss, train_prediction], feed_dict=feed_dict)\n",
    "    if (step % 500 == 0):\n",
    "      print(\"Minibatch loss at step %d: %f\" % (step, l))\n",
    "      print(\"Minibatch accuracy: %.1f%%\" % accuracy(predictions, batch_labels))\n",
    "      print(\"Validation accuracy: %.1f%%\" % accuracy(\n",
    "        valid_prediction.eval(), valid_labels))\n",
    "  print(\"Test accuracy: %.1f%%\" % accuracy(test_prediction.eval(), test_labels))"
   ]
  },
  {
   "cell_type": "markdown",
   "metadata": {
    "colab_type": "text",
    "deletable": true,
    "editable": true,
    "id": "-b1hTz3VWZjw"
   },
   "source": [
    "---\n",
    "Problem 4\n",
    "---------\n",
    "\n",
    "Try to get the best performance you can using a multi-layer model! The best reported test accuracy using a deep network is [97.1%](http://yaroslavvb.blogspot.com/2011/09/notmnist-dataset.html?showComment=1391023266211#c8758720086795711595).\n",
    "\n",
    "One avenue you can explore is to add multiple layers.\n",
    "\n",
    "Another one is to use learning rate decay:\n",
    "\n",
    "    global_step = tf.Variable(0)  # count the number of steps taken.\n",
    "    learning_rate = tf.train.exponential_decay(0.5, global_step, ...)\n",
    "    optimizer = tf.train.GradientDescentOptimizer(learning_rate).minimize(loss, global_step=global_step)\n",
    " \n",
    " ---\n"
   ]
  },
  {
   "cell_type": "code",
   "execution_count": 73,
   "metadata": {
    "collapsed": false
   },
   "outputs": [
    {
     "name": "stdout",
     "output_type": "stream",
     "text": [
      "graph ready\n",
      "Minibatch loss at step 0: 37933.648438\n",
      "Minibatch accuracy: 9.4%\n",
      "Validation accuracy: 10.0%\n",
      "Minibatch loss at step 100: nan\n",
      "Minibatch accuracy: 11.7%\n",
      "Validation accuracy: 10.0%\n",
      "Minibatch loss at step 200: nan\n",
      "Minibatch accuracy: 11.7%\n",
      "Validation accuracy: 10.0%\n"
     ]
    },
    {
     "ename": "KeyboardInterrupt",
     "evalue": "",
     "output_type": "error",
     "traceback": [
      "\u001b[0;31m---------------------------------------------------------------------------\u001b[0m",
      "\u001b[0;31mKeyboardInterrupt\u001b[0m                         Traceback (most recent call last)",
      "\u001b[0;32m<ipython-input-73-b99e04c0b020>\u001b[0m in \u001b[0;36m<module>\u001b[0;34m()\u001b[0m\n\u001b[1;32m     61\u001b[0m     \u001b[0mfeed_dict\u001b[0m \u001b[0;34m=\u001b[0m \u001b[0;34m{\u001b[0m\u001b[0mx\u001b[0m \u001b[0;34m:\u001b[0m \u001b[0mbatch_data\u001b[0m\u001b[0;34m,\u001b[0m \u001b[0my\u001b[0m \u001b[0;34m:\u001b[0m \u001b[0mbatch_labels\u001b[0m\u001b[0;34m}\u001b[0m\u001b[0;34m\u001b[0m\u001b[0m\n\u001b[1;32m     62\u001b[0m     _, l, predictions = session.run(\n\u001b[0;32m---> 63\u001b[0;31m       [optimizer, loss, train_prediction], feed_dict=feed_dict)\n\u001b[0m\u001b[1;32m     64\u001b[0m     \u001b[0;32mif\u001b[0m \u001b[0;34m(\u001b[0m\u001b[0mstep\u001b[0m \u001b[0;34m%\u001b[0m \u001b[0;36m100\u001b[0m \u001b[0;34m==\u001b[0m \u001b[0;36m0\u001b[0m\u001b[0;34m)\u001b[0m\u001b[0;34m:\u001b[0m\u001b[0;34m\u001b[0m\u001b[0m\n\u001b[1;32m     65\u001b[0m       \u001b[0mprint\u001b[0m\u001b[0;34m(\u001b[0m\u001b[0;34m\"Minibatch loss at step %d: %f\"\u001b[0m \u001b[0;34m%\u001b[0m \u001b[0;34m(\u001b[0m\u001b[0mstep\u001b[0m\u001b[0;34m,\u001b[0m \u001b[0ml\u001b[0m\u001b[0;34m)\u001b[0m\u001b[0;34m)\u001b[0m\u001b[0;34m\u001b[0m\u001b[0m\n",
      "\u001b[0;32m/usr/local/lib/python3.6/site-packages/tensorflow/python/client/session.py\u001b[0m in \u001b[0;36mrun\u001b[0;34m(self, fetches, feed_dict, options, run_metadata)\u001b[0m\n\u001b[1;32m    764\u001b[0m     \u001b[0;32mtry\u001b[0m\u001b[0;34m:\u001b[0m\u001b[0;34m\u001b[0m\u001b[0m\n\u001b[1;32m    765\u001b[0m       result = self._run(None, fetches, feed_dict, options_ptr,\n\u001b[0;32m--> 766\u001b[0;31m                          run_metadata_ptr)\n\u001b[0m\u001b[1;32m    767\u001b[0m       \u001b[0;32mif\u001b[0m \u001b[0mrun_metadata\u001b[0m\u001b[0;34m:\u001b[0m\u001b[0;34m\u001b[0m\u001b[0m\n\u001b[1;32m    768\u001b[0m         \u001b[0mproto_data\u001b[0m \u001b[0;34m=\u001b[0m \u001b[0mtf_session\u001b[0m\u001b[0;34m.\u001b[0m\u001b[0mTF_GetBuffer\u001b[0m\u001b[0;34m(\u001b[0m\u001b[0mrun_metadata_ptr\u001b[0m\u001b[0;34m)\u001b[0m\u001b[0;34m\u001b[0m\u001b[0m\n",
      "\u001b[0;32m/usr/local/lib/python3.6/site-packages/tensorflow/python/client/session.py\u001b[0m in \u001b[0;36m_run\u001b[0;34m(self, handle, fetches, feed_dict, options, run_metadata)\u001b[0m\n\u001b[1;32m    962\u001b[0m     \u001b[0;32mif\u001b[0m \u001b[0mfinal_fetches\u001b[0m \u001b[0;32mor\u001b[0m \u001b[0mfinal_targets\u001b[0m\u001b[0;34m:\u001b[0m\u001b[0;34m\u001b[0m\u001b[0m\n\u001b[1;32m    963\u001b[0m       results = self._do_run(handle, final_targets, final_fetches,\n\u001b[0;32m--> 964\u001b[0;31m                              feed_dict_string, options, run_metadata)\n\u001b[0m\u001b[1;32m    965\u001b[0m     \u001b[0;32melse\u001b[0m\u001b[0;34m:\u001b[0m\u001b[0;34m\u001b[0m\u001b[0m\n\u001b[1;32m    966\u001b[0m       \u001b[0mresults\u001b[0m \u001b[0;34m=\u001b[0m \u001b[0;34m[\u001b[0m\u001b[0;34m]\u001b[0m\u001b[0;34m\u001b[0m\u001b[0m\n",
      "\u001b[0;32m/usr/local/lib/python3.6/site-packages/tensorflow/python/client/session.py\u001b[0m in \u001b[0;36m_do_run\u001b[0;34m(self, handle, target_list, fetch_list, feed_dict, options, run_metadata)\u001b[0m\n\u001b[1;32m   1012\u001b[0m     \u001b[0;32mif\u001b[0m \u001b[0mhandle\u001b[0m \u001b[0;32mis\u001b[0m \u001b[0;32mNone\u001b[0m\u001b[0;34m:\u001b[0m\u001b[0;34m\u001b[0m\u001b[0m\n\u001b[1;32m   1013\u001b[0m       return self._do_call(_run_fn, self._session, feed_dict, fetch_list,\n\u001b[0;32m-> 1014\u001b[0;31m                            target_list, options, run_metadata)\n\u001b[0m\u001b[1;32m   1015\u001b[0m     \u001b[0;32melse\u001b[0m\u001b[0;34m:\u001b[0m\u001b[0;34m\u001b[0m\u001b[0m\n\u001b[1;32m   1016\u001b[0m       return self._do_call(_prun_fn, self._session, handle, feed_dict,\n",
      "\u001b[0;32m/usr/local/lib/python3.6/site-packages/tensorflow/python/client/session.py\u001b[0m in \u001b[0;36m_do_call\u001b[0;34m(self, fn, *args)\u001b[0m\n\u001b[1;32m   1019\u001b[0m   \u001b[0;32mdef\u001b[0m \u001b[0m_do_call\u001b[0m\u001b[0;34m(\u001b[0m\u001b[0mself\u001b[0m\u001b[0;34m,\u001b[0m \u001b[0mfn\u001b[0m\u001b[0;34m,\u001b[0m \u001b[0;34m*\u001b[0m\u001b[0margs\u001b[0m\u001b[0;34m)\u001b[0m\u001b[0;34m:\u001b[0m\u001b[0;34m\u001b[0m\u001b[0m\n\u001b[1;32m   1020\u001b[0m     \u001b[0;32mtry\u001b[0m\u001b[0;34m:\u001b[0m\u001b[0;34m\u001b[0m\u001b[0m\n\u001b[0;32m-> 1021\u001b[0;31m       \u001b[0;32mreturn\u001b[0m \u001b[0mfn\u001b[0m\u001b[0;34m(\u001b[0m\u001b[0;34m*\u001b[0m\u001b[0margs\u001b[0m\u001b[0;34m)\u001b[0m\u001b[0;34m\u001b[0m\u001b[0m\n\u001b[0m\u001b[1;32m   1022\u001b[0m     \u001b[0;32mexcept\u001b[0m \u001b[0merrors\u001b[0m\u001b[0;34m.\u001b[0m\u001b[0mOpError\u001b[0m \u001b[0;32mas\u001b[0m \u001b[0me\u001b[0m\u001b[0;34m:\u001b[0m\u001b[0;34m\u001b[0m\u001b[0m\n\u001b[1;32m   1023\u001b[0m       \u001b[0mmessage\u001b[0m \u001b[0;34m=\u001b[0m \u001b[0mcompat\u001b[0m\u001b[0;34m.\u001b[0m\u001b[0mas_text\u001b[0m\u001b[0;34m(\u001b[0m\u001b[0me\u001b[0m\u001b[0;34m.\u001b[0m\u001b[0mmessage\u001b[0m\u001b[0;34m)\u001b[0m\u001b[0;34m\u001b[0m\u001b[0m\n",
      "\u001b[0;32m/usr/local/lib/python3.6/site-packages/tensorflow/python/client/session.py\u001b[0m in \u001b[0;36m_run_fn\u001b[0;34m(session, feed_dict, fetch_list, target_list, options, run_metadata)\u001b[0m\n\u001b[1;32m   1001\u001b[0m         return tf_session.TF_Run(session, options,\n\u001b[1;32m   1002\u001b[0m                                  \u001b[0mfeed_dict\u001b[0m\u001b[0;34m,\u001b[0m \u001b[0mfetch_list\u001b[0m\u001b[0;34m,\u001b[0m \u001b[0mtarget_list\u001b[0m\u001b[0;34m,\u001b[0m\u001b[0;34m\u001b[0m\u001b[0m\n\u001b[0;32m-> 1003\u001b[0;31m                                  status, run_metadata)\n\u001b[0m\u001b[1;32m   1004\u001b[0m \u001b[0;34m\u001b[0m\u001b[0m\n\u001b[1;32m   1005\u001b[0m     \u001b[0;32mdef\u001b[0m \u001b[0m_prun_fn\u001b[0m\u001b[0;34m(\u001b[0m\u001b[0msession\u001b[0m\u001b[0;34m,\u001b[0m \u001b[0mhandle\u001b[0m\u001b[0;34m,\u001b[0m \u001b[0mfeed_dict\u001b[0m\u001b[0;34m,\u001b[0m \u001b[0mfetch_list\u001b[0m\u001b[0;34m)\u001b[0m\u001b[0;34m:\u001b[0m\u001b[0;34m\u001b[0m\u001b[0m\n",
      "\u001b[0;31mKeyboardInterrupt\u001b[0m: "
     ]
    }
   ],
   "source": [
    "## NN with Dropout and L2，full dataset\n",
    "train_size = train_labels.shape[0]\n",
    "batch_size = 128\n",
    "hidden_dimension = [1024,512,256]\n",
    "num_steps = 1001\n",
    "beta = 0.01\n",
    "keep_prob = 0.5\n",
    "\n",
    "graph = tf.Graph()\n",
    "with graph.as_default():\n",
    "  # 定义输入输出及参数\n",
    "  x = tf.placeholder(tf.float32, shape=(batch_size, image_size * image_size))\n",
    "  y = tf.placeholder(tf.float32, shape=(batch_size, num_labels))\n",
    "  valid = tf.constant(valid_dataset)\n",
    "  test = tf.constant(test_dataset)\n",
    "  w1 = tf.Variable(tf.truncated_normal([image_size * image_size, hidden_dimension[0]]))\n",
    "  b1 = tf.Variable(tf.zeros([hidden_dimension[0]]))\n",
    "  w2 = tf.Variable(tf.truncated_normal([hidden_dimension[0], hidden_dimension[1]]))  \n",
    "  b2 = tf.Variable(tf.zeros([hidden_dimension[1]]))\n",
    "  w3 = tf.Variable(tf.truncated_normal([hidden_dimension[1], hidden_dimension[2]]))  \n",
    "  b3 = tf.Variable(tf.zeros([hidden_dimension[2]]))\n",
    "  w4 = tf.Variable(tf.truncated_normal([hidden_dimension[2], num_labels]))  \n",
    "  b4 = tf.Variable(tf.zeros([num_labels]))\n",
    "  epsilon = tf.constant(value=0.00001, shape=b4.get_shape())\n",
    "    \n",
    "  l1 = tf.nn.relu(tf.matmul(x, w1) + b1)\n",
    "#   d1 = tf.nn.dropout(l1, keep_prob)\n",
    "  l2 = tf.nn.relu(tf.matmul(l1, w2) + b2)\n",
    "#   d2 = tf.nn.dropout(l2, keep_prob)\n",
    "  l3 = tf.nn.relu(tf.matmul(l2, w3) + b3)            \n",
    "#   d3 = tf.nn.dropout(l3, keep_prob)\n",
    "  logit = tf.matmul(l3, w4) + b4 + epsilon\n",
    "  loss = tf.reduce_mean(\n",
    "    tf.nn.softmax_cross_entropy_with_logits(labels=y, logits=logit))\n",
    "  optimizer = tf.train.GradientDescentOptimizer(0.01).minimize(loss)\n",
    "\n",
    "  train_relu2= tf.nn.relu(tf.matmul(l1, w2) + b2)\n",
    "  train_relu3= tf.nn.relu(tf.matmul(train_relu2, w3) + b3)\n",
    "  train_logit= tf.matmul(train_relu3, w4) + b4 + epsilon\n",
    "  train_prediction = tf.nn.softmax(train_logit)\n",
    "    \n",
    "  valid_relu1= tf.nn.relu(tf.matmul(valid, w1) + b1)\n",
    "  valid_relu2= tf.nn.relu(tf.matmul(valid_relu1, w2) + b2)\n",
    "  valid_relu3= tf.nn.relu(tf.matmul(valid_relu2, w3) + b3)\n",
    "  valid_logit=  tf.matmul(valid_relu3, w4) + b4 + epsilon\n",
    "  valid_prediction = tf.nn.softmax(valid_logit)\n",
    "\n",
    "  test_relu1= tf.nn.relu(tf.matmul(test, w1) + b1)\n",
    "  test_relu2= tf.nn.relu(tf.matmul(test_relu1, w2) + b2)\n",
    "  test_relu3= tf.nn.relu(tf.matmul(test_relu2, w3) + b3)\n",
    "  test_logit= tf.matmul(test_relu3, w4) + b4 + epsilon\n",
    "  test_prediction = tf.nn.softmax(test_logit)\n",
    "print(\"graph ready\")\n",
    "\n",
    "with tf.Session(graph=graph) as session:\n",
    "  tf.global_variables_initializer().run()\n",
    "  for step in range(num_steps):\n",
    "    offset = (step * batch_size) % (train_size - batch_size)\n",
    "    batch_data = train_dataset[offset:(offset + batch_size), :]\n",
    "    batch_labels = train_labels[offset:(offset + batch_size), :]\n",
    "    feed_dict = {x : batch_data, y : batch_labels}\n",
    "    _, l, predictions = session.run(\n",
    "      [optimizer, loss, train_prediction], feed_dict=feed_dict)\n",
    "    if (step % 100 == 0):\n",
    "      print(\"Minibatch loss at step %d: %f\" % (step, l))\n",
    "      print(\"Minibatch accuracy: %.1f%%\" % accuracy(predictions, batch_labels))\n",
    "      print(\"Validation accuracy: %.1f%%\" % accuracy(\n",
    "        valid_prediction.eval(), valid_labels))\n",
    "  print(\"Test accuracy: %.1f%%\" % accuracy(test_prediction.eval(), test_labels))"
   ]
  },
  {
   "cell_type": "code",
   "execution_count": null,
   "metadata": {
    "collapsed": true
   },
   "outputs": [],
   "source": []
  }
 ],
 "metadata": {
  "colab": {
   "default_view": {},
   "name": "3_regularization.ipynb",
   "provenance": [],
   "version": "0.3.2",
   "views": {}
  },
  "kernelspec": {
   "display_name": "Python 3",
   "language": "python",
   "name": "python3"
  },
  "language_info": {
   "codemirror_mode": {
    "name": "ipython",
    "version": 3
   },
   "file_extension": ".py",
   "mimetype": "text/x-python",
   "name": "python",
   "nbconvert_exporter": "python",
   "pygments_lexer": "ipython3",
   "version": "3.6.0"
  }
 },
 "nbformat": 4,
 "nbformat_minor": 0
}
